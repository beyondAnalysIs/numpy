{
 "cells": [
  {
   "cell_type": "code",
   "execution_count": 1,
   "id": "ff406215",
   "metadata": {},
   "outputs": [],
   "source": [
    "import numpy as np"
   ]
  },
  {
   "cell_type": "markdown",
   "id": "3335adc0",
   "metadata": {},
   "source": [
    "CREACIÓN DE ARRAYS"
   ]
  },
  {
   "cell_type": "code",
   "execution_count": 2,
   "id": "97c48f4a",
   "metadata": {},
   "outputs": [
    {
     "name": "stdout",
     "output_type": "stream",
     "text": [
      "array 1D:  [1 2 3 4 5]\n"
     ]
    }
   ],
   "source": [
    "# array 1D\n",
    "lista = [1,2,3,4,5]\n",
    "array = np.array(lista)\n",
    "print(f'array 1D:  {array}')"
   ]
  },
  {
   "cell_type": "code",
   "execution_count": 3,
   "id": "2be5fe28",
   "metadata": {},
   "outputs": [
    {
     "name": "stdout",
     "output_type": "stream",
     "text": [
      "array 2D: [[1 2 3]\n",
      " [4 5 6]]\n"
     ]
    }
   ],
   "source": [
    "# array 2D\n",
    "lista_2d = [[1,2,3],[4,5,6]]\n",
    "array_2d = np.array(lista_2d)\n",
    "print(f'array 2D: {array_2d}')"
   ]
  },
  {
   "cell_type": "markdown",
   "id": "be540ae7",
   "metadata": {},
   "source": [
    "CREACIÓN DE FUNCIONES DE NUMPY"
   ]
  },
  {
   "cell_type": "markdown",
   "id": "b54352b6",
   "metadata": {},
   "source": [
    "ARRAYS CON FUNCIONES"
   ]
  },
  {
   "cell_type": "code",
   "execution_count": 4,
   "id": "9ef21f6b",
   "metadata": {},
   "outputs": [
    {
     "name": "stdout",
     "output_type": "stream",
     "text": [
      "array de ceros: [[0. 0. 0. 0.]\n",
      " [0. 0. 0. 0.]\n",
      " [0. 0. 0. 0.]]\n",
      "array de unos: [[1. 1. 1.]\n",
      " [1. 1. 1.]]\n",
      "array con valor contante: [[7 7 7]\n",
      " [7 7 7]]\n",
      "matriz identidad: [[1. 0. 0.]\n",
      " [0. 1. 0.]\n",
      " [0. 0. 1.]]\n",
      "secuencia especifica de numeros: [0 2 4 6 8]\n",
      "secuencia de numeros especificos de elementos: [0.   0.25 0.5  0.75 1.  ]\n"
     ]
    }
   ],
   "source": [
    "# array de ceros\n",
    "array_zeros = np.zeros((3,4)) # 3 filas y 4 columnas\n",
    "print(f'array de ceros: {array_zeros}') \n",
    "\n",
    "# array de unos\n",
    "array_ones = np.ones((2,3)) # 2 filas y 3 columnas\n",
    "print(f'array de unos: {array_ones}')\n",
    "\n",
    "# array con valor contante\n",
    "array_const = np.full((2,3), 7) # 2 filas y 3 columnas\n",
    "print(f'array con valor contante: {array_const}')\n",
    "\n",
    "#matriz identidad\n",
    "array_eye = np.eye(3) # matriz identidad de 3x3\n",
    "print(f'matriz identidad: {array_eye}')\n",
    " \n",
    "# secuencia especifica de numeros\n",
    "array_arange = np.arange(0,10,2) # de 0 a 10 con paso de 2\n",
    "print(f'secuencia especifica de numeros: {array_arange}')\n",
    "\n",
    "# secuencia de numeros especificos de elementos\n",
    "array_linspace = np.linspace(0,1,5) # de 0 a 1 con 5 elementos\n",
    "print(f'secuencia de numeros especificos de elementos: {array_linspace}')\n"
   ]
  },
  {
   "cell_type": "markdown",
   "id": "e38c6fcd",
   "metadata": {},
   "source": [
    "ARRAYS ALEATORIOS"
   ]
  },
  {
   "cell_type": "code",
   "execution_count": 5,
   "id": "ed717424",
   "metadata": {},
   "outputs": [
    {
     "name": "stdout",
     "output_type": "stream",
     "text": [
      "numeros aleatorios: [[0.49535683 0.49554311 0.79829283]\n",
      " [0.54927386 0.72884699 0.96108738]]\n",
      "numeros aleatorios en un rango: [[3 6 2]\n",
      " [2 1 0]\n",
      " [4 6 3]]\n",
      "distribucion normal: [[ 1.03990501 -0.06377525  0.13194539]\n",
      " [-0.3673252   0.43975723 -0.72712521]]\n"
     ]
    }
   ],
   "source": [
    "#numeros aleatorios\n",
    "array_random = np.random.random((2,3)) # 2 filas y 3 columnas\n",
    "print(f'numeros aleatorios: {array_random}')\n",
    "\n",
    "# numeros aleatorios en un rango\n",
    "array_random_int = np.random.randint(0,10,(3,3)) # de 0 a 10 con 2 filas y 3 columnas\n",
    "print(f'numeros aleatorios en un rango: {array_random_int}')\n",
    "\n",
    "# distribucion normal (gauusiana)\n",
    "array_normal = np.random.normal(0,1,(2,3)) # media 0, desviacion estandar 1, 2 filas y 3 columnas\n",
    "print(f'distribucion normal: {array_normal}')\n",
    "\n",
    "# "
   ]
  },
  {
   "cell_type": "markdown",
   "id": "7c8bcb97",
   "metadata": {},
   "source": [
    "ATRIBUTOS DE ARRAYS"
   ]
  },
  {
   "cell_type": "code",
   "execution_count": 34,
   "id": "df8a596c",
   "metadata": {},
   "outputs": [
    {
     "name": "stdout",
     "output_type": "stream",
     "text": [
      "\n",
      "dimensiones: 3\n",
      "\n",
      "tamaño de la matriz: (3, 4, 5)\n",
      "\n",
      "numero total de elementos: 60\n",
      "\n",
      "tipo de datos: int32\n",
      "\n",
      "primera parte del array: \n",
      "[[7 2 1 1 2]\n",
      " [7 0 2 6 1]\n",
      " [8 1 0 6 6]\n",
      " [4 1 4 5 8]]\n"
     ]
    }
   ],
   "source": [
    "array = np.random.randint(0,10,(3,4,5)) # de 0 a 10 con 3 filas y 3 columnas\n",
    "\n",
    "#dimensiones\n",
    "print(f'\\ndimensiones: {array.ndim}')\n",
    "\n",
    "# tamaño en cada dimensión\n",
    "print(f'\\ntamaño de la matriz: {array.shape}')\n",
    "\n",
    "# numero total de elementos\n",
    "print(f'\\nnumero total de elementos: {array.size}')\n",
    "\n",
    "# tipo de datos\n",
    "print(f'\\ntipo de datos: {array.dtype}')\n",
    "\n",
    "# mostrar la primera parte del array\n",
    "print(f'\\nprimera parte del array: \\n{array[0]}')\n"
   ]
  },
  {
   "cell_type": "markdown",
   "id": "c0ba41b7",
   "metadata": {},
   "source": [
    "INDEXACIÓN Y SLICING"
   ]
  },
  {
   "cell_type": "code",
   "execution_count": 7,
   "id": "7dfa9aca",
   "metadata": {},
   "outputs": [
    {
     "name": "stdout",
     "output_type": "stream",
     "text": [
      "array 2D: \n",
      "[[ 1  2  3  4]\n",
      " [ 5  6  7  8]\n",
      " [ 9 10 11 12]]\n",
      "\n",
      "acceder a un elemento : 7\n",
      "\n",
      "slicing de una fila: [1 2 3 4]\n",
      "\n",
      "slice de una columna: [ 2  6 10]\n",
      "\n",
      "submatriz: [[2 3]\n",
      " [6 7]]\n"
     ]
    }
   ],
   "source": [
    "array_2D = np.array([[1,2,3,4],[5,6,7,8],[9,10,11,12]])\n",
    "print(f'array 2D: \\n{array_2D}')\n",
    "\n",
    "# acceder a un elemento\n",
    "print(f'\\nacceder a un elemento : {array_2D[1,2]}') # fila 1, columna 2\n",
    "\n",
    "#slicing de una fila \n",
    "print(f'\\nslicing de una fila: {array_2D[0,:]}') # fila 1, todas las columnas\n",
    "\n",
    "#slice de una columna\n",
    "print(f'\\nslice de una columna: {array_2D[:,1]}') # todas las filas, columna 1\n",
    "\n",
    "#submatriz\n",
    "print(f'\\nsubmatriz: {array_2D[0:2, 1:3]}') # filas 0 a 2, columnas 1 a 3\n"
   ]
  },
  {
   "cell_type": "markdown",
   "id": "97581829",
   "metadata": {},
   "source": [
    "RESHAPING Y MANIPULACIÓN DE DIMENSIONES"
   ]
  },
  {
   "cell_type": "code",
   "execution_count": 9,
   "id": "39c80a8e",
   "metadata": {},
   "outputs": [
    {
     "name": "stdout",
     "output_type": "stream",
     "text": [
      "[ 0  1  2  3  4  5  6  7  8  9 10 11] \n",
      "\n",
      "reshape_2D: \n",
      "[[ 0  1  2  3]\n",
      " [ 4  5  6  7]\n",
      " [ 8  9 10 11]]\n",
      "\n",
      "reshape_3D: \n",
      "[[[ 0  1]\n",
      "  [ 2  3]\n",
      "  [ 4  5]]\n",
      "\n",
      " [[ 6  7]\n",
      "  [ 8  9]\n",
      "  [10 11]]]\n",
      "\n",
      "transponer un array:\n",
      " [[ 0  4  8]\n",
      " [ 1  5  9]\n",
      " [ 2  6 10]\n",
      " [ 3  7 11]]\n"
     ]
    }
   ],
   "source": [
    "# array 3d\n",
    "array = np.arange(12)\n",
    "print(array,'\\n')\n",
    "\n",
    "# reshape 2d\n",
    "array_2d = array.reshape(3,4) # 3 filas y 4 columnas\n",
    "print(f'reshape_2D: \\n{array_2d}')\n",
    "\n",
    "# reshape 3d\n",
    "array_3d = array.reshape(2,3,2) # 2 matrices de 3 filas y 2 columnas\n",
    "print(f'\\nreshape_3D: \\n{array_3d}')\n",
    "\n",
    "# transponer un array (intercambiar filas y columnas)\n",
    "transposed = array_2d.T\n",
    "print(f'\\ntransponer un array:\\n {transposed}') # transponer un array (intercambiar filas y columnas)"
   ]
  },
  {
   "cell_type": "markdown",
   "id": "a0343552",
   "metadata": {},
   "source": [
    "VECTORIZACIÓN DE ARREGLOS"
   ]
  },
  {
   "cell_type": "code",
   "execution_count": 19,
   "id": "eb40e390",
   "metadata": {},
   "outputs": [
    {
     "name": "stdout",
     "output_type": "stream",
     "text": [
      "\n",
      "suma: [ 6  8 10 12]\n",
      "suma: [ 6  8 10 12]\n",
      "\n",
      "resta : [-4 -4 -4 -4]\n",
      "resta: [-4 -4 -4 -4]\n",
      "\n",
      "multiplicacion: [ 5 12 21 32]\n",
      "multiplicación: [ 5 12 21 32]\n",
      "\n",
      "division: [0.2        0.33333333 0.42857143 0.5       ]\n",
      "division: [0.2        0.33333333 0.42857143 0.5       ]\n",
      "\n",
      "potencia: [ 1  4  9 16]\n",
      "potencia: [ 1  4  9 16]\n",
      "\n",
      "raiz cuadrada: [1.         1.41421356 1.73205081 2.        ]\n",
      "raiz cuadrada: [2.23606798 2.44948974 2.64575131 2.82842712]\n"
     ]
    }
   ],
   "source": [
    "a = np.array([1,2,3,4])\n",
    "b = np.array([5,6,7,8])\n",
    "\n",
    "# suma\n",
    "print(f'\\nsuma: {a+b}') # suma de arrays\n",
    "print(f'suma: {np.add(a,b)}') # add \n",
    "\n",
    "# resta\n",
    "print(f'\\nresta : {a-b}')\n",
    "print(f'resta: {np.subtract(a,b)}')\n",
    "\n",
    "# multiplicación \n",
    "print(f'\\nmultiplicacion: {a*b}')\n",
    "print(f'multiplicación: {np.multiply(a,b)}')\n",
    "\n",
    "# división\n",
    "print(f'\\ndivision: {a/b}')\n",
    "print(f'division: {np.divide(a,b)}')   \n",
    "\n",
    "# potencia \n",
    "print(f'\\npotencia: {a**2}')\n",
    "print(f'potencia: {np.power(a,2)}') \n",
    "\n",
    "# raiz cuadrada\n",
    "print(f'\\nraiz cuadrada: {np.sqrt(a)}') # raiz cuadrada de cada elemento\n",
    "print(f'raiz cuadrada: {np.sqrt(b)}') # raiz cuadrada de cada elemento"
   ]
  },
  {
   "cell_type": "markdown",
   "id": "a48fcf7e",
   "metadata": {},
   "source": [
    "COMPARACIÓN DE RENDIMIENTO"
   ]
  },
  {
   "cell_type": "code",
   "execution_count": null,
   "id": "cf3bbfae",
   "metadata": {},
   "outputs": [],
   "source": [
    "import time\n"
   ]
  },
  {
   "cell_type": "code",
   "execution_count": null,
   "id": "adff45a0",
   "metadata": {},
   "outputs": [
    {
     "name": "stdout",
     "output_type": "stream",
     "text": [
      "python puro: 0.008994 segundos\n",
      "numpy: 0.008994 segundos\n",
      "numpy es 4.51 veces más rápido que python puro\n"
     ]
    }
   ],
   "source": [
    "size = 1000000\n",
    "date_list = list(range(size))\n",
    "date_array = np.array(date_list)\n",
    "\n",
    "# python puro \n",
    "start = time.time()\n",
    "sum_python = sum(date_list)\n",
    "time_python = time.time() - start\n",
    "print(f'python puro: {time_python:.6f} segundos')\n",
    "\n",
    "# numpy\n",
    "start = time.time()\n",
    "sum_numpy = np.sum(date_array)\n",
    "time_np = time.time() - start \n",
    "print(f'numpy: {time_python:.6f} segundos')\n",
    "\n",
    "# comparación\n",
    "print(f'numpy es {time_python/time_np:.2f} veces más rápido que python puro')\n"
   ]
  },
  {
   "cell_type": "markdown",
   "id": "0f9daef7",
   "metadata": {},
   "source": [
    "BROADCASTING\n",
    "\n",
    "Realizar operaciones entre arrays de diferentes formas"
   ]
  },
  {
   "cell_type": "code",
   "execution_count": 32,
   "id": "54eee466",
   "metadata": {},
   "outputs": [
    {
     "name": "stdout",
     "output_type": "stream",
     "text": [
      "array 2d: \n",
      "[[1 2 3]\n",
      " [4 5 6]\n",
      " [7 8 9]]\n",
      "\n",
      "array 1d: [10 20 30]\n",
      "\n",
      "resultado de la suma: \n",
      "[[11 22 33]\n",
      " [14 25 36]\n",
      " [17 28 39]]\n"
     ]
    }
   ],
   "source": [
    "# array 2d (matriz)\n",
    "array_2d = np.array([[1,2,3],[4,5,6],[7,8,9]])\n",
    "print(f'array 2d: \\n{array_2d}\\n')\n",
    "\n",
    "# array 1d (vector)\n",
    "vector = np.array([10,20,30])\n",
    "print(f'array 1d: {vector}')\n",
    "\n",
    "# broadcasting: sumar el vector a cada fila de la matriz\n",
    "result = array_2d + vector\n",
    "print(f'\\nresultado de la suma: \\n{result}') # resultado de la suma"
   ]
  },
  {
   "cell_type": "markdown",
   "id": "7ab6aa0d",
   "metadata": {},
   "source": [
    "FUNCIONES UNIVERSALES (UNFUNCS)"
   ]
  },
  {
   "cell_type": "code",
   "execution_count": 38,
   "id": "648bdd30",
   "metadata": {},
   "outputs": [
    {
     "name": "stdout",
     "output_type": "stream",
     "text": [
      "[1 0 1 2]\n",
      "[-0.84147098  0.          0.84147098  0.90929743]\n",
      "[0.36787944 1.         2.71828183 7.3890561 ]\n",
      "[1.         0.         1.         1.41421356]\n",
      "0.5\n",
      "1.118033988749895\n",
      "[False False  True  True]\n",
      "[False False  True False]\n",
      "[ True  True  True  True]\n",
      "[ True False False False]\n"
     ]
    }
   ],
   "source": [
    "a = np.array([-1,0,1,2])\n",
    "\n",
    "# funciones matemáticas\n",
    "print(np.abs(a)) # valor absoluto\n",
    "print(np.sin(a)) # seno\n",
    "print(np.exp(a)) # exponencial\n",
    "print(np.sqrt(np.abs(a))) # raiz cuadrada\n",
    "print(np.mean(a)) # media\n",
    "print(np.std(a)) # desviación estándar\n",
    "\n",
    "# funciones lógicas\n",
    "print(a > 0) # mayor que 0\n",
    "print(np.logical_and(a > 0, a < 2)) # and\n",
    "print(np.logical_or(a > 0, a < 2)) # or\n",
    "print(np.less(a, 0)) # menor que 0\n",
    "\n",
    "\n"
   ]
  },
  {
   "cell_type": "markdown",
   "id": "b2948697",
   "metadata": {},
   "source": [
    "Matemáticas\n",
    "\n",
    "- add, substract, mltiply, divide\n",
    "- sqtr, exp, log, power\n",
    "- sin, cos, tan\n",
    "- floor, ceil, round\n",
    "\n",
    "Comparación\n",
    "\n",
    "- greatel greater_iqual\n",
    "- less, less_equal\n",
    "- equal, not_equal\n",
    "- logical_and, logical_or "
   ]
  },
  {
   "cell_type": "markdown",
   "id": "5a8901cb",
   "metadata": {},
   "source": [
    "FUNCIONES  MATEMÁTICAS Y ESTADÍSTICAS"
   ]
  },
  {
   "cell_type": "code",
   "execution_count": null,
   "id": "432d7866",
   "metadata": {},
   "outputs": [],
   "source": []
  }
 ],
 "metadata": {
  "kernelspec": {
   "display_name": "np_venv",
   "language": "python",
   "name": "python3"
  },
  "language_info": {
   "codemirror_mode": {
    "name": "ipython",
    "version": 3
   },
   "file_extension": ".py",
   "mimetype": "text/x-python",
   "name": "python",
   "nbconvert_exporter": "python",
   "pygments_lexer": "ipython3",
   "version": "3.12.9"
  }
 },
 "nbformat": 4,
 "nbformat_minor": 5
}
