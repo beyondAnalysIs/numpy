{
 "cells": [
  {
   "cell_type": "code",
   "execution_count": 2,
   "id": "ff406215",
   "metadata": {},
   "outputs": [],
   "source": [
    "import numpy as np"
   ]
  },
  {
   "cell_type": "markdown",
   "id": "3335adc0",
   "metadata": {},
   "source": [
    "CREACIÓN DE ARRAYS"
   ]
  },
  {
   "cell_type": "code",
   "execution_count": 3,
   "id": "97c48f4a",
   "metadata": {},
   "outputs": [
    {
     "name": "stdout",
     "output_type": "stream",
     "text": [
      "array 1D:  [1 2 3 4 5]\n"
     ]
    }
   ],
   "source": [
    "# array 1D\n",
    "lista = [1,2,3,4,5]\n",
    "array = np.array(lista)\n",
    "print(f'array 1D:  {array}')"
   ]
  },
  {
   "cell_type": "code",
   "execution_count": 4,
   "id": "2be5fe28",
   "metadata": {},
   "outputs": [
    {
     "name": "stdout",
     "output_type": "stream",
     "text": [
      "array 2D: [[1 2 3]\n",
      " [4 5 6]]\n"
     ]
    }
   ],
   "source": [
    "# array 2D\n",
    "lista_2d = [[1,2,3],[4,5,6]]\n",
    "array_2d = np.array(lista_2d)\n",
    "print(f'array 2D: {array_2d}')"
   ]
  },
  {
   "cell_type": "markdown",
   "id": "be540ae7",
   "metadata": {},
   "source": [
    "CREACIÓN DE FUNCIONES DE NUMPY"
   ]
  },
  {
   "cell_type": "markdown",
   "id": "b54352b6",
   "metadata": {},
   "source": [
    "ARRAYS CON FUNCIONES"
   ]
  },
  {
   "cell_type": "code",
   "execution_count": 5,
   "id": "9ef21f6b",
   "metadata": {},
   "outputs": [
    {
     "name": "stdout",
     "output_type": "stream",
     "text": [
      "array de ceros: [[0. 0. 0. 0.]\n",
      " [0. 0. 0. 0.]\n",
      " [0. 0. 0. 0.]]\n",
      "array de unos: [[1. 1. 1.]\n",
      " [1. 1. 1.]]\n",
      "array con valor contante: [[7 7 7]\n",
      " [7 7 7]]\n",
      "matriz identidad: [[1. 0. 0.]\n",
      " [0. 1. 0.]\n",
      " [0. 0. 1.]]\n",
      "secuencia especifica de numeros: [0 2 4 6 8]\n",
      "secuencia de numeros especificos de elementos: [0.   0.25 0.5  0.75 1.  ]\n"
     ]
    }
   ],
   "source": [
    "# array de ceros\n",
    "array_zeros = np.zeros((3,4)) # 3 filas y 4 columnas\n",
    "print(f'array de ceros: {array_zeros}') \n",
    "\n",
    "# array de unos\n",
    "array_ones = np.ones((2,3)) # 2 filas y 3 columnas\n",
    "print(f'array de unos: {array_ones}')\n",
    "\n",
    "# array con valor contante\n",
    "array_const = np.full((2,3), 7) # 2 filas y 3 columnas\n",
    "print(f'array con valor contante: {array_const}')\n",
    "\n",
    "#matriz identidad\n",
    "array_eye = np.eye(3) # matriz identidad de 3x3\n",
    "print(f'matriz identidad: {array_eye}')\n",
    " \n",
    "# secuencia especifica de numeros\n",
    "array_arange = np.arange(0,10,2) # de 0 a 10 con paso de 2\n",
    "print(f'secuencia especifica de numeros: {array_arange}')\n",
    "\n",
    "# secuencia de numeros especificos de elementos\n",
    "array_linspace = np.linspace(0,1,5) # de 0 a 1 con 5 elementos\n",
    "print(f'secuencia de numeros especificos de elementos: {array_linspace}')\n"
   ]
  },
  {
   "cell_type": "markdown",
   "id": "e38c6fcd",
   "metadata": {},
   "source": [
    "ARRAYS ALEATORIOS"
   ]
  },
  {
   "cell_type": "code",
   "execution_count": 6,
   "id": "ed717424",
   "metadata": {},
   "outputs": [
    {
     "name": "stdout",
     "output_type": "stream",
     "text": [
      "numeros aleatorios: [[0.54905457 0.32437715 0.91415294]\n",
      " [0.6984969  0.1183188  0.66945665]]\n",
      "numeros aleatorios en un rango: [[7 8 5]\n",
      " [3 0 3]\n",
      " [2 1 0]]\n",
      "distribucion normal: [[ 0.88115887  0.34454297 -2.08601002]\n",
      " [-0.73323884 -0.91934859 -0.18647424]]\n"
     ]
    }
   ],
   "source": [
    "#numeros aleatorios\n",
    "array_random = np.random.random((2,3)) # 2 filas y 3 columnas\n",
    "print(f'numeros aleatorios: {array_random}')\n",
    "\n",
    "# numeros aleatorios en un rango\n",
    "array_random_int = np.random.randint(0,10,(3,3)) # de 0 a 10 con 2 filas y 3 columnas\n",
    "print(f'numeros aleatorios en un rango: {array_random_int}')\n",
    "\n",
    "# distribucion normal (gauusiana)\n",
    "array_normal = np.random.normal(0,1,(2,3)) # media 0, desviacion estandar 1, 2 filas y 3 columnas\n",
    "print(f'distribucion normal: {array_normal}')\n",
    "\n",
    "# "
   ]
  },
  {
   "cell_type": "markdown",
   "id": "7c8bcb97",
   "metadata": {},
   "source": [
    "ATRIBUTOS DE ARRAYS"
   ]
  },
  {
   "cell_type": "code",
   "execution_count": 7,
   "id": "df8a596c",
   "metadata": {},
   "outputs": [
    {
     "name": "stdout",
     "output_type": "stream",
     "text": [
      "dimensiones: 3\n",
      "tamaño de la matriz: (3, 4, 5)\n",
      "numero total de elementos: 60\n",
      "tipo de datos: int32\n",
      "primera parte del array: [[7 3 5 0 7]\n",
      " [9 1 4 4 6]\n",
      " [0 5 2 7 7]\n",
      " [6 1 0 2 1]]\n"
     ]
    }
   ],
   "source": [
    "array = np.random.randint(0,10,(3,4,5)) # de 0 a 10 con 3 filas y 3 columnas\n",
    "\n",
    "#dimensiones\n",
    "print(f'dimensiones: {array.ndim}')\n",
    "\n",
    "# tamaño en cada dimensión\n",
    "print(f'tamaño de la matriz: {array.shape}')\n",
    "\n",
    "# numero total de elementos\n",
    "print(f'numero total de elementos: {array.size}')\n",
    "\n",
    "# tipo de datos\n",
    "print(f'tipo de datos: {array.dtype}')\n",
    "\n",
    "# mostrar la primera parte del array\n",
    "print(f'primera parte del array: {array[0]}')\n"
   ]
  },
  {
   "cell_type": "markdown",
   "id": "c0ba41b7",
   "metadata": {},
   "source": [
    "INDEXACIÓN Y SLICING"
   ]
  },
  {
   "cell_type": "code",
   "execution_count": 14,
   "id": "7dfa9aca",
   "metadata": {},
   "outputs": [
    {
     "name": "stdout",
     "output_type": "stream",
     "text": [
      "array 2D: \n",
      "[[ 1  2  3  4]\n",
      " [ 5  6  7  8]\n",
      " [ 9 10 11 12]]\n",
      "\n",
      "acceder a un elemento : 7\n",
      "\n",
      "slicing de una fila: [1 2 3 4]\n",
      "\n",
      "slice de una columna: [ 2  6 10]\n",
      "\n",
      "submatriz: [[2 3]\n",
      " [6 7]]\n"
     ]
    }
   ],
   "source": [
    "array_2D = np.array([[1,2,3,4],[5,6,7,8],[9,10,11,12]])\n",
    "print(f'array 2D: \\n{array_2D}')\n",
    "\n",
    "# acceder a un elemento\n",
    "print(f'\\nacceder a un elemento : {array_2D[1,2]}') # fila 1, columna 2\n",
    "\n",
    "#slicing de una fila \n",
    "print(f'\\nslicing de una fila: {array_2D[0,:]}') # fila 1, todas las columnas\n",
    "\n",
    "#slice de una columna\n",
    "print(f'\\nslice de una columna: {array_2D[:,1]}') # todas las filas, columna 1\n",
    "\n",
    "#submatriz\n",
    "print(f'\\nsubmatriz: {array_2D[0:2, 1:3]}') # filas 0 a 2, columnas 1 a 3\n"
   ]
  },
  {
   "cell_type": "markdown",
   "id": "97581829",
   "metadata": {},
   "source": [
    "RESHAPING Y MANIPULACIÓN DE DIMENSIONES"
   ]
  },
  {
   "cell_type": "code",
   "execution_count": 27,
   "id": "39c80a8e",
   "metadata": {},
   "outputs": [
    {
     "name": "stdout",
     "output_type": "stream",
     "text": [
      "[ 0  1  2  3  4  5  6  7  8  9 10 11] \n",
      "\n",
      "reshape_2D: \n",
      "[[ 0  1  2  3]\n",
      " [ 4  5  6  7]\n",
      " [ 8  9 10 11]]\n",
      "reshape_3D: \n",
      "[[[ 0  1]\n",
      "  [ 2  3]\n",
      "  [ 4  5]]\n",
      "\n",
      " [[ 6  7]\n",
      "  [ 8  9]\n",
      "  [10 11]]]\n",
      "\n",
      "transponer un array:\n",
      " [[ 0  4  8]\n",
      " [ 1  5  9]\n",
      " [ 2  6 10]\n",
      " [ 3  7 11]]\n"
     ]
    }
   ],
   "source": [
    "# array 3d\n",
    "array = np.arange(12)\n",
    "print(array,'\\n')\n",
    "\n",
    "# reshape 2d\n",
    "array_2d = array.reshape(3,4) # 3 filas y 4 columnas\n",
    "print(f'reshape_2D: \\n{array_2d}')\n",
    "\n",
    "# reshape 3d\n",
    "array_3d = array.reshape(2,3,2) # 2 matrices de 3 filas y 2 columnas\n",
    "print(f'reshape_3D: \\n{array_3d}')\n",
    "\n",
    "# transponer un array (intercambiar filas y columnas)\n",
    "transposed = array_2d.T\n",
    "print(f'\\ntransponer un array:\\n {transposed}') # transponer un array (intercambiar filas y columnas)"
   ]
  },
  {
   "cell_type": "code",
   "execution_count": null,
   "id": "cf3bbfae",
   "metadata": {},
   "outputs": [],
   "source": []
  }
 ],
 "metadata": {
  "kernelspec": {
   "display_name": "np_venv",
   "language": "python",
   "name": "python3"
  },
  "language_info": {
   "codemirror_mode": {
    "name": "ipython",
    "version": 3
   },
   "file_extension": ".py",
   "mimetype": "text/x-python",
   "name": "python",
   "nbconvert_exporter": "python",
   "pygments_lexer": "ipython3",
   "version": "3.12.9"
  }
 },
 "nbformat": 4,
 "nbformat_minor": 5
}
