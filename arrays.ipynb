{
 "cells": [
  {
   "cell_type": "code",
   "execution_count": 1,
   "id": "ff406215",
   "metadata": {},
   "outputs": [],
   "source": [
    "import numpy as np"
   ]
  },
  {
   "cell_type": "markdown",
   "id": "3335adc0",
   "metadata": {},
   "source": [
    "CREACIÓN DE ARRAYS"
   ]
  },
  {
   "cell_type": "code",
   "execution_count": 7,
   "id": "97c48f4a",
   "metadata": {},
   "outputs": [
    {
     "name": "stdout",
     "output_type": "stream",
     "text": [
      "array 1D:  [1 2 3 4 5]\n"
     ]
    }
   ],
   "source": [
    "# array 1D\n",
    "lista = [1,2,3,4,5]\n",
    "array = np.array(lista)\n",
    "print(f'array 1D:  {array}')"
   ]
  },
  {
   "cell_type": "code",
   "execution_count": 8,
   "id": "2be5fe28",
   "metadata": {},
   "outputs": [
    {
     "name": "stdout",
     "output_type": "stream",
     "text": [
      "array 2D: [[1 2 3]\n",
      " [4 5 6]]\n"
     ]
    }
   ],
   "source": [
    "# array 2D\n",
    "lista_2d = [[1,2,3],[4,5,6]]\n",
    "array_2d = np.array(lista_2d)\n",
    "print(f'array 2D: {array_2d}')"
   ]
  },
  {
   "cell_type": "markdown",
   "id": "be540ae7",
   "metadata": {},
   "source": [
    "CREACIÓN DE FUNCIONES DE NUMPY"
   ]
  },
  {
   "cell_type": "markdown",
   "id": "b54352b6",
   "metadata": {},
   "source": [
    "ARRAYS CON FUNCIONES"
   ]
  },
  {
   "cell_type": "code",
   "execution_count": null,
   "id": "9ef21f6b",
   "metadata": {},
   "outputs": [
    {
     "name": "stdout",
     "output_type": "stream",
     "text": [
      "array de ceros: [[0. 0. 0. 0.]\n",
      " [0. 0. 0. 0.]\n",
      " [0. 0. 0. 0.]]\n",
      "array de unos: [[1. 1. 1.]\n",
      " [1. 1. 1.]]\n",
      "array con valor contante: [[7 7 7]\n",
      " [7 7 7]]\n",
      "matriz identidad: [[1. 0. 0.]\n",
      " [0. 1. 0.]\n",
      " [0. 0. 1.]]\n",
      "secuencia especifica de numeros: [0 2 4 6 8]\n",
      "secuencia de numeros especificos de elementos: [0.   0.25 0.5  0.75 1.  ]\n"
     ]
    }
   ],
   "source": [
    "# array de ceros\n",
    "array_zeros = np.zeros((3,4)) # 3 filas y 4 columnas\n",
    "print(f'array de ceros: {array_zeros}') \n",
    "\n",
    "# array de unos\n",
    "array_ones = np.ones((2,3)) # 2 filas y 3 columnas\n",
    "print(f'array de unos: {array_ones}')\n",
    "\n",
    "# array con valor contante\n",
    "array_const = np.full((2,3), 7) # 2 filas y 3 columnas\n",
    "print(f'array con valor contante: {array_const}')\n",
    "\n",
    "#matriz identidad\n",
    "array_eye = np.eye(3) # matriz identidad de 3x3\n",
    "print(f'matriz identidad: {array_eye}')\n",
    " \n",
    "# secuencia especifica de numeros\n",
    "array_arange = np.arange(0,10,2) # de 0 a 10 con paso de 2\n",
    "print(f'secuencia especifica de numeros: {array_arange}')\n",
    "\n",
    "# secuencia de numeros especificos de elementos\n",
    "array_linspace = np.linspace(0,1,5) # de 0 a 1 con 5 elementos\n",
    "print(f'secuencia de numeros especificos de elementos: {array_linspace}')\n"
   ]
  },
  {
   "cell_type": "markdown",
   "id": "e38c6fcd",
   "metadata": {},
   "source": [
    "ARRAYS ALEATORIOS"
   ]
  },
  {
   "cell_type": "code",
   "execution_count": null,
   "id": "ed717424",
   "metadata": {},
   "outputs": [
    {
     "name": "stdout",
     "output_type": "stream",
     "text": [
      "numeros aleatorios: [[0.41542346 0.73383506 0.4631807 ]\n",
      " [0.84641943 0.42437928 0.27209654]]\n",
      "numeros aleatorios en un rango: [[9 6 9]\n",
      " [4 8 7]\n",
      " [8 5 2]]\n",
      "distribucion normal: [[ 1.37993237  0.22066076 -0.33102234]\n",
      " [ 0.08886175 -2.36310318 -0.03941756]]\n"
     ]
    }
   ],
   "source": [
    "#numeros aleatorios\n",
    "array_random = np.random.random((2,3)) # 2 filas y 3 columnas\n",
    "print(f'numeros aleatorios: {array_random}')\n",
    "\n",
    "# numeros aleatorios en un rango\n",
    "array_random_int = np.random.randint(0,10,(3,3)) # de 0 a 10 con 2 filas y 3 columnas\n",
    "print(f'numeros aleatorios en un rango: {array_random_int}')\n",
    "\n",
    "# distribucion normal (gauusiana)\n",
    "array_normal = np.random.normal(0,1,(2,3)) # media 0, desviacion estandar 1, 2 filas y 3 columnas\n",
    "print(f'distribucion normal: {array_normal}')\n",
    "\n",
    "# "
   ]
  },
  {
   "cell_type": "markdown",
   "id": "7c8bcb97",
   "metadata": {},
   "source": [
    "ATRIBUTOS DE ARRAYS"
   ]
  },
  {
   "cell_type": "code",
   "execution_count": 33,
   "id": "df8a596c",
   "metadata": {},
   "outputs": [
    {
     "name": "stdout",
     "output_type": "stream",
     "text": [
      "dimensiones: 3\n",
      "tamaño de la matriz: (3, 4, 5)\n",
      "numero total de elementos: 60\n",
      "tipo de datos: int32\n",
      "primera parte del array: [[1 9 3 2 1]\n",
      " [5 7 2 9 9]\n",
      " [6 3 5 2 7]\n",
      " [3 4 5 2 9]]\n"
     ]
    }
   ],
   "source": [
    "array = np.random.randint(0,10,(3,4,5)) # de 0 a 10 con 3 filas y 3 columnas\n",
    "\n",
    "#dimensiones\n",
    "print(f'dimensiones: {array.ndim}')\n",
    "\n",
    "# tamaño en cada dimensión\n",
    "print(f'tamaño de la matriz: {array.shape}')\n",
    "\n",
    "# numero total de elementos\n",
    "print(f'numero total de elementos: {array.size}')\n",
    "\n",
    "# tipo de datos\n",
    "print(f'tipo de datos: {array.dtype}')\n",
    "\n",
    "# mostrar la primera parte del array\n",
    "print(f'primera parte del array: {array[0]}')\n"
   ]
  },
  {
   "cell_type": "markdown",
   "id": "c0ba41b7",
   "metadata": {},
   "source": [
    "INDEXACIÓN Y SLICING"
   ]
  },
  {
   "cell_type": "code",
   "execution_count": 41,
   "id": "7dfa9aca",
   "metadata": {},
   "outputs": [
    {
     "name": "stdout",
     "output_type": "stream",
     "text": [
      "acceder a un elemento : 7\n",
      "slicing de una fila: [1 2 3 4]\n"
     ]
    }
   ],
   "source": [
    "array_2D = np.array([[1,2,3,4],[5,6,7,8],[9,10,11,12]])\n",
    "\n",
    "# acceder a un elemento\n",
    "print(f'acceder a un elemento : {array_2D[1,2]}') # fila 1, columna 2\n",
    "\n",
    "#slicing de una fila \n",
    "print(f'slicing de una fila: {array_2D[0,:]}') # fila 1, todas las columnas"
   ]
  },
  {
   "cell_type": "code",
   "execution_count": null,
   "id": "39c80a8e",
   "metadata": {},
   "outputs": [],
   "source": []
  }
 ],
 "metadata": {
  "kernelspec": {
   "display_name": "np_venv",
   "language": "python",
   "name": "python3"
  },
  "language_info": {
   "codemirror_mode": {
    "name": "ipython",
    "version": 3
   },
   "file_extension": ".py",
   "mimetype": "text/x-python",
   "name": "python",
   "nbconvert_exporter": "python",
   "pygments_lexer": "ipython3",
   "version": "3.12.9"
  }
 },
 "nbformat": 4,
 "nbformat_minor": 5
}
