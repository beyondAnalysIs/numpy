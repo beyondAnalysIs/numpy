{
 "cells": [
  {
   "cell_type": "code",
   "execution_count": 27,
   "id": "ff406215",
   "metadata": {},
   "outputs": [],
   "source": [
    "import numpy as np"
   ]
  },
  {
   "cell_type": "markdown",
   "id": "3335adc0",
   "metadata": {},
   "source": [
    "CREACIÓN DE ARRAYS"
   ]
  },
  {
   "cell_type": "code",
   "execution_count": 28,
   "id": "97c48f4a",
   "metadata": {},
   "outputs": [
    {
     "name": "stdout",
     "output_type": "stream",
     "text": [
      "array 1D:  [1 2 3 4 5]\n"
     ]
    }
   ],
   "source": [
    "# array 1D\n",
    "lista = [1,2,3,4,5]\n",
    "array = np.array(lista)\n",
    "print(f'array 1D:  {array}')"
   ]
  },
  {
   "cell_type": "code",
   "execution_count": 29,
   "id": "2be5fe28",
   "metadata": {},
   "outputs": [
    {
     "name": "stdout",
     "output_type": "stream",
     "text": [
      "array 2D: [[1 2 3]\n",
      " [4 5 6]]\n"
     ]
    }
   ],
   "source": [
    "# array 2D\n",
    "lista_2d = [[1,2,3],[4,5,6]]\n",
    "array_2d = np.array(lista_2d)\n",
    "print(f'array 2D: {array_2d}')"
   ]
  },
  {
   "cell_type": "markdown",
   "id": "be540ae7",
   "metadata": {},
   "source": [
    "CREACIÓN DE FUNCIONES DE NUMPY"
   ]
  },
  {
   "cell_type": "markdown",
   "id": "b54352b6",
   "metadata": {},
   "source": [
    "ARRAYS CON FUNCIONES"
   ]
  },
  {
   "cell_type": "code",
   "execution_count": 30,
   "id": "9ef21f6b",
   "metadata": {},
   "outputs": [
    {
     "name": "stdout",
     "output_type": "stream",
     "text": [
      "array de ceros: [[0. 0. 0. 0.]\n",
      " [0. 0. 0. 0.]\n",
      " [0. 0. 0. 0.]]\n",
      "array de unos: [[1. 1. 1.]\n",
      " [1. 1. 1.]]\n",
      "array con valor contante: [[7 7 7]\n",
      " [7 7 7]]\n",
      "matriz identidad: [[1. 0. 0.]\n",
      " [0. 1. 0.]\n",
      " [0. 0. 1.]]\n",
      "secuencia especifica de numeros: [0 2 4 6 8]\n",
      "secuencia de numeros especificos de elementos: [0.   0.25 0.5  0.75 1.  ]\n"
     ]
    }
   ],
   "source": [
    "# array de ceros\n",
    "array_zeros = np.zeros((3,4)) # 3 filas y 4 columnas\n",
    "print(f'array de ceros: {array_zeros}') \n",
    "\n",
    "# array de unos\n",
    "array_ones = np.ones((2,3)) # 2 filas y 3 columnas\n",
    "print(f'array de unos: {array_ones}')\n",
    "\n",
    "# array con valor contante\n",
    "array_const = np.full((2,3), 7) # 2 filas y 3 columnas\n",
    "print(f'array con valor contante: {array_const}')\n",
    "\n",
    "#matriz identidad\n",
    "array_eye = np.eye(3) # matriz identidad de 3x3\n",
    "print(f'matriz identidad: {array_eye}')\n",
    " \n",
    "# secuencia especifica de numeros\n",
    "array_arange = np.arange(0,10,2) # de 0 a 10 con paso de 2\n",
    "print(f'secuencia especifica de numeros: {array_arange}')\n",
    "\n",
    "# secuencia de numeros especificos de elementos\n",
    "array_linspace = np.linspace(0,1,5) # de 0 a 1 con 5 elementos\n",
    "print(f'secuencia de numeros especificos de elementos: {array_linspace}')\n"
   ]
  },
  {
   "cell_type": "markdown",
   "id": "e38c6fcd",
   "metadata": {},
   "source": [
    "ARRAYS ALEATORIOS"
   ]
  },
  {
   "cell_type": "code",
   "execution_count": 31,
   "id": "ed717424",
   "metadata": {},
   "outputs": [
    {
     "name": "stdout",
     "output_type": "stream",
     "text": [
      "numeros aleatorios: [[0.33949838 0.77197173 0.73429923]\n",
      " [0.10934136 0.4757294  0.22472512]]\n",
      "numeros aleatorios en un rango: [[8 1 0]\n",
      " [7 2 0]\n",
      " [2 0 7]]\n",
      "distribucion normal: [[ 0.98413522 -0.3953402   0.75134649]\n",
      " [ 0.13916553  1.20625766  0.46445152]]\n"
     ]
    }
   ],
   "source": [
    "#numeros aleatorios\n",
    "array_random = np.random.random((2,3)) # 2 filas y 3 columnas\n",
    "print(f'numeros aleatorios: {array_random}')\n",
    "\n",
    "# numeros aleatorios en un rango\n",
    "array_random_int = np.random.randint(0,10,(3,3)) # de 0 a 10 con 2 filas y 3 columnas\n",
    "print(f'numeros aleatorios en un rango: {array_random_int}')\n",
    "\n",
    "# distribucion normal (gauusiana)\n",
    "array_normal = np.random.normal(0,1,(2,3)) # media 0, desviacion estandar 1, 2 filas y 3 columnas\n",
    "print(f'distribucion normal: {array_normal}')\n",
    "\n",
    "# "
   ]
  },
  {
   "cell_type": "markdown",
   "id": "7c8bcb97",
   "metadata": {},
   "source": [
    "ATRIBUTOS DE ARRAYS"
   ]
  },
  {
   "cell_type": "code",
   "execution_count": 32,
   "id": "df8a596c",
   "metadata": {},
   "outputs": [
    {
     "name": "stdout",
     "output_type": "stream",
     "text": [
      "\n",
      "dimensiones: 3\n",
      "\n",
      "tamaño de la matriz: (3, 4, 5)\n",
      "\n",
      "numero total de elementos: 60\n",
      "\n",
      "tipo de datos: int32\n",
      "\n",
      "primera parte del array: \n",
      "[[8 6 0 4 3]\n",
      " [6 8 7 0 1]\n",
      " [3 0 8 9 2]\n",
      " [4 1 3 5 5]]\n"
     ]
    }
   ],
   "source": [
    "array = np.random.randint(0,10,(3,4,5)) # de 0 a 10 con 3 filas y 3 columnas\n",
    "\n",
    "#dimensiones\n",
    "print(f'\\ndimensiones: {array.ndim}')\n",
    "\n",
    "# tamaño en cada dimensión\n",
    "print(f'\\ntamaño de la matriz: {array.shape}')\n",
    "\n",
    "# numero total de elementos\n",
    "print(f'\\nnumero total de elementos: {array.size}')\n",
    "\n",
    "# tipo de datos\n",
    "print(f'\\ntipo de datos: {array.dtype}')\n",
    "\n",
    "# mostrar la primera parte del array\n",
    "print(f'\\nprimera parte del array: \\n{array[0]}')\n"
   ]
  },
  {
   "cell_type": "markdown",
   "id": "c0ba41b7",
   "metadata": {},
   "source": [
    "INDEXACIÓN Y SLICING"
   ]
  },
  {
   "cell_type": "code",
   "execution_count": 33,
   "id": "7dfa9aca",
   "metadata": {},
   "outputs": [
    {
     "name": "stdout",
     "output_type": "stream",
     "text": [
      "array 2D: \n",
      "[[ 1  2  3  4]\n",
      " [ 5  6  7  8]\n",
      " [ 9 10 11 12]]\n",
      "\n",
      "acceder a un elemento : 7\n",
      "\n",
      "slicing de una fila: [1 2 3 4]\n",
      "\n",
      "slice de una columna: [ 2  6 10]\n",
      "\n",
      "submatriz: [[2 3]\n",
      " [6 7]]\n"
     ]
    }
   ],
   "source": [
    "array_2D = np.array([[1,2,3,4],[5,6,7,8],[9,10,11,12]])\n",
    "print(f'array 2D: \\n{array_2D}')\n",
    "\n",
    "# acceder a un elemento\n",
    "print(f'\\nacceder a un elemento : {array_2D[1,2]}') # fila 1, columna 2\n",
    "\n",
    "#slicing de una fila \n",
    "print(f'\\nslicing de una fila: {array_2D[0,:]}') # fila 1, todas las columnas\n",
    "\n",
    "#slice de una columna\n",
    "print(f'\\nslice de una columna: {array_2D[:,1]}') # todas las filas, columna 1\n",
    "\n",
    "#submatriz\n",
    "print(f'\\nsubmatriz: {array_2D[0:2, 1:3]}') # filas 0 a 2, columnas 1 a 3\n"
   ]
  },
  {
   "cell_type": "markdown",
   "id": "97581829",
   "metadata": {},
   "source": [
    "RESHAPING Y MANIPULACIÓN DE DIMENSIONES"
   ]
  },
  {
   "cell_type": "code",
   "execution_count": 34,
   "id": "39c80a8e",
   "metadata": {},
   "outputs": [
    {
     "name": "stdout",
     "output_type": "stream",
     "text": [
      "[ 0  1  2  3  4  5  6  7  8  9 10 11] \n",
      "\n",
      "reshape_2D: \n",
      "[[ 0  1  2  3]\n",
      " [ 4  5  6  7]\n",
      " [ 8  9 10 11]]\n",
      "\n",
      "reshape_3D: \n",
      "[[[ 0  1]\n",
      "  [ 2  3]\n",
      "  [ 4  5]]\n",
      "\n",
      " [[ 6  7]\n",
      "  [ 8  9]\n",
      "  [10 11]]]\n",
      "\n",
      "transponer un array:\n",
      " [[ 0  4  8]\n",
      " [ 1  5  9]\n",
      " [ 2  6 10]\n",
      " [ 3  7 11]]\n"
     ]
    }
   ],
   "source": [
    "# array 3d\n",
    "array = np.arange(12)\n",
    "print(array,'\\n')\n",
    "\n",
    "# reshape 2d\n",
    "array_2d = array.reshape(3,4) # 3 filas y 4 columnas\n",
    "print(f'reshape_2D: \\n{array_2d}')\n",
    "\n",
    "# reshape 3d\n",
    "array_3d = array.reshape(2,3,2) # 2 matrices de 3 filas y 2 columnas\n",
    "print(f'\\nreshape_3D: \\n{array_3d}')\n",
    "\n",
    "# transponer un array (intercambiar filas y columnas)\n",
    "transposed = array_2d.T\n",
    "print(f'\\ntransponer un array:\\n {transposed}') # transponer un array (intercambiar filas y columnas)"
   ]
  },
  {
   "cell_type": "markdown",
   "id": "a0343552",
   "metadata": {},
   "source": [
    "VECTORIZACIÓN DE ARREGLOS"
   ]
  },
  {
   "cell_type": "code",
   "execution_count": 35,
   "id": "eb40e390",
   "metadata": {},
   "outputs": [
    {
     "name": "stdout",
     "output_type": "stream",
     "text": [
      "\n",
      "suma: [ 6  8 10 12]\n",
      "suma: [ 6  8 10 12]\n",
      "\n",
      "resta : [-4 -4 -4 -4]\n",
      "resta: [-4 -4 -4 -4]\n",
      "\n",
      "multiplicacion: [ 5 12 21 32]\n",
      "multiplicación: [ 5 12 21 32]\n",
      "\n",
      "division: [0.2        0.33333333 0.42857143 0.5       ]\n",
      "division: [0.2        0.33333333 0.42857143 0.5       ]\n",
      "\n",
      "potencia: [ 1  4  9 16]\n",
      "potencia: [ 1  4  9 16]\n",
      "\n",
      "raiz cuadrada: [1.         1.41421356 1.73205081 2.        ]\n",
      "raiz cuadrada: [2.23606798 2.44948974 2.64575131 2.82842712]\n"
     ]
    }
   ],
   "source": [
    "a = np.array([1,2,3,4])\n",
    "b = np.array([5,6,7,8])\n",
    "\n",
    "# suma\n",
    "print(f'\\nsuma: {a+b}') # suma de arrays\n",
    "print(f'suma: {np.add(a,b)}') # add \n",
    "\n",
    "# resta\n",
    "print(f'\\nresta : {a-b}')\n",
    "print(f'resta: {np.subtract(a,b)}')\n",
    "\n",
    "# multiplicación \n",
    "print(f'\\nmultiplicacion: {a*b}')\n",
    "print(f'multiplicación: {np.multiply(a,b)}')\n",
    "\n",
    "# división\n",
    "print(f'\\ndivision: {a/b}')\n",
    "print(f'division: {np.divide(a,b)}')   \n",
    "\n",
    "# potencia \n",
    "print(f'\\npotencia: {a**2}')\n",
    "print(f'potencia: {np.power(a,2)}') \n",
    "\n",
    "# raiz cuadrada\n",
    "print(f'\\nraiz cuadrada: {np.sqrt(a)}') # raiz cuadrada de cada elemento\n",
    "print(f'raiz cuadrada: {np.sqrt(b)}') # raiz cuadrada de cada elemento"
   ]
  },
  {
   "cell_type": "markdown",
   "id": "a48fcf7e",
   "metadata": {},
   "source": [
    "COMPARACIÓN DE RENDIMIENTO"
   ]
  },
  {
   "cell_type": "code",
   "execution_count": 36,
   "id": "cf3bbfae",
   "metadata": {},
   "outputs": [],
   "source": [
    "import time\n"
   ]
  },
  {
   "cell_type": "code",
   "execution_count": 37,
   "id": "adff45a0",
   "metadata": {},
   "outputs": [
    {
     "name": "stdout",
     "output_type": "stream",
     "text": [
      "python puro: 0.008997 segundos\n",
      "numpy: 0.008997 segundos\n",
      "numpy es 9.01 veces más rápido que python puro\n"
     ]
    }
   ],
   "source": [
    "size = 1000000\n",
    "date_list = list(range(size))\n",
    "date_array = np.array(date_list)\n",
    "\n",
    "# python puro \n",
    "start = time.time()\n",
    "sum_python = sum(date_list)\n",
    "time_python = time.time() - start\n",
    "print(f'python puro: {time_python:.6f} segundos')\n",
    "\n",
    "# numpy\n",
    "start = time.time()\n",
    "sum_numpy = np.sum(date_array)\n",
    "time_np = time.time() - start \n",
    "print(f'numpy: {time_python:.6f} segundos')\n",
    "\n",
    "# comparación\n",
    "print(f'numpy es {time_python/time_np:.2f} veces más rápido que python puro')\n"
   ]
  },
  {
   "cell_type": "markdown",
   "id": "0f9daef7",
   "metadata": {},
   "source": [
    "BROADCASTING\n",
    "\n",
    "Realizar operaciones entre arrays de diferentes formas"
   ]
  },
  {
   "cell_type": "code",
   "execution_count": 38,
   "id": "54eee466",
   "metadata": {},
   "outputs": [
    {
     "name": "stdout",
     "output_type": "stream",
     "text": [
      "array 2d: \n",
      "[[1 2 3]\n",
      " [4 5 6]\n",
      " [7 8 9]]\n",
      "\n",
      "array 1d: [10 20 30]\n",
      "\n",
      "resultado de la suma: \n",
      "[[11 22 33]\n",
      " [14 25 36]\n",
      " [17 28 39]]\n"
     ]
    }
   ],
   "source": [
    "# array 2d (matriz)\n",
    "array_2d = np.array([[1,2,3],[4,5,6],[7,8,9]])\n",
    "print(f'array 2d: \\n{array_2d}\\n')\n",
    "\n",
    "# array 1d (vector)\n",
    "vector = np.array([10,20,30])\n",
    "print(f'array 1d: {vector}')\n",
    "\n",
    "# broadcasting: sumar el vector a cada fila de la matriz\n",
    "result = array_2d + vector\n",
    "print(f'\\nresultado de la suma: \\n{result}') # resultado de la suma"
   ]
  },
  {
   "cell_type": "markdown",
   "id": "7ab6aa0d",
   "metadata": {},
   "source": [
    "FUNCIONES UNIVERSALES (UNFUNCS)"
   ]
  },
  {
   "cell_type": "code",
   "execution_count": 39,
   "id": "648bdd30",
   "metadata": {},
   "outputs": [
    {
     "name": "stdout",
     "output_type": "stream",
     "text": [
      "[1 0 1 2]\n",
      "[-0.84147098  0.          0.84147098  0.90929743]\n",
      "[0.36787944 1.         2.71828183 7.3890561 ]\n",
      "[1.         0.         1.         1.41421356]\n",
      "0.5\n",
      "1.118033988749895\n",
      "[False False  True  True]\n",
      "[False False  True False]\n",
      "[ True  True  True  True]\n",
      "[ True False False False]\n"
     ]
    }
   ],
   "source": [
    "a = np.array([-1,0,1,2])\n",
    "\n",
    "# funciones matemáticas\n",
    "print(np.abs(a)) # valor absoluto\n",
    "print(np.sin(a)) # seno\n",
    "print(np.exp(a)) # exponencial\n",
    "print(np.sqrt(np.abs(a))) # raiz cuadrada\n",
    "print(np.mean(a)) # media\n",
    "print(np.std(a)) # desviación estándar\n",
    "\n",
    "# funciones lógicas\n",
    "print(a > 0) # mayor que 0\n",
    "print(np.logical_and(a > 0, a < 2)) # and\n",
    "print(np.logical_or(a > 0, a < 2)) # or\n",
    "print(np.less(a, 0)) # menor que 0\n",
    "\n",
    "\n"
   ]
  },
  {
   "cell_type": "markdown",
   "id": "b2948697",
   "metadata": {},
   "source": [
    "Matemáticas\n",
    "\n",
    "- add, substract, mltiply, divide\n",
    "- sqtr, exp, log, power\n",
    "- sin, cos, tan\n",
    "- floor, ceil, round\n",
    "\n",
    "Comparación\n",
    "\n",
    "- greatel greater_iqual\n",
    "- less, less_equal\n",
    "- equal, not_equal\n",
    "- logical_and, logical_or "
   ]
  },
  {
   "cell_type": "markdown",
   "id": "5a8901cb",
   "metadata": {},
   "source": [
    "FUNCIONES  MATEMÁTICAS Y ESTADÍSTICAS"
   ]
  },
  {
   "cell_type": "code",
   "execution_count": 40,
   "id": "432d7866",
   "metadata": {},
   "outputs": [
    {
     "name": "stdout",
     "output_type": "stream",
     "text": [
      "suma total: 21\n",
      "minimo: 1\n",
      "máximo: 6\n",
      "producto total: 720\n",
      "promedio: 3.5\n",
      "mediana: 3.5\n",
      "desviacion estandar: 1.707825127659933\n",
      "varianza: 2.9166666666666665\n"
     ]
    }
   ],
   "source": [
    "array = np.array([[1,2,3],[4,5,6]])\n",
    "\n",
    "# sumar todos los elementos\n",
    "print(f'suma total: {np.sum(array)}')\n",
    "\n",
    "# minimo y maximo\n",
    "print(f'minimo: {np.min(array)}')\n",
    "print(f'máximo: {np.max(array)}')\n",
    "\n",
    "# producto de todos los elementos\n",
    "print(f'producto total: {np.prod(array)}') # 1 * 2 * 3 * 4 * 5 * 6 = 720\n",
    "\n",
    "# promedio\n",
    "print(f'promedio: {np.mean(array)}') # (1+2+3+4+5+6)/6 = 3.5\n",
    "\n",
    "# mediana\n",
    "print(f'mediana: {np.median(array)}') # 3.5\n",
    "\n",
    "# desviacion estandar\n",
    "print(f'desviacion estandar: {np.std(array)}') # 1.7078\n",
    "\n",
    "# varianza\n",
    "print(f'varianza: {np.var(array)}') # 2.915\n"
   ]
  },
  {
   "cell_type": "markdown",
   "id": "3659504a",
   "metadata": {},
   "source": [
    "OPERACIONES POR EJES"
   ]
  },
  {
   "cell_type": "code",
   "execution_count": 41,
   "id": "3b5b6c7c",
   "metadata": {},
   "outputs": [
    {
     "name": "stdout",
     "output_type": "stream",
     "text": [
      "suma por filas: [ 6 15]\n",
      "suma por columnas: [5 7 9]\n",
      "máximo por filas: [3 6]\n"
     ]
    }
   ],
   "source": [
    "array = np.array([[1,2,3],[4,5,6]])\n",
    "\n",
    "# sumar por filas (eje 1)\n",
    "print(f'suma por filas: {np.sum(array, axis=1)}') # [6 15]\n",
    "\n",
    "# sumar por columnas (eje 0)\n",
    "print(f'suma por columnas: {np.sum(array, axis=0)}') # [5 7 9]\n",
    "\n",
    "# maximo por filas (eje 1)\n",
    "print(f'máximo por filas: {np.max(array, axis=1)}') # [3 6]"
   ]
  },
  {
   "cell_type": "markdown",
   "id": "fcb55f94",
   "metadata": {},
   "source": [
    "CASO PRÁCTICO: ANÁLISIS DE TEMPERATURAS"
   ]
  },
  {
   "cell_type": "code",
   "execution_count": 42,
   "id": "e5525152",
   "metadata": {},
   "outputs": [
    {
     "name": "stdout",
     "output_type": "stream",
     "text": [
      "\n",
      "Temperaturas media global: \n",
      " 18.2ºC\n",
      "\n",
      "Temperaturas máxima registrada: \n",
      " 28.0ºC\n",
      "\n",
      "Temperaturas media global: \n",
      " 9.0ºC\n"
     ]
    }
   ],
   "source": [
    "# temperaturas ,medias mensuales en grados Celsius para una ciudad\n",
    "temperaturas = np.array([\n",
    "    [10,12,15,18,28,23,25,24,22,18,14,11], # año 2022\n",
    "    [9,11,14,17,21,24,26,25,21,17,13,10], # año 2023\n",
    "    [10,13,15,19,22,25,27,26,23,19,15,12] # año 2024\n",
    "])\n",
    "\n",
    "# nombre de los meses para referencia\n",
    "meses = ['Ene', 'Feb', 'Mar', 'Abr', 'May', 'Jun', 'Jul', 'Ago', 'Sep', 'Oct', 'Nov', 'Dic']\n",
    "anio = [2022, 2023, 2024]\n",
    "\n",
    "# analisis básico\n",
    "print(f'\\nTemperaturas media global: \\n{np.mean(temperaturas): .1f}ºC') # \n",
    "print(f'\\nTemperaturas máxima registrada: \\n{np.max(temperaturas): .1f}ºC') # \n",
    "print(f'\\nTemperaturas media global: \\n{np.min(temperaturas): .1f}ºC') # \n",
    "\n",
    " "
   ]
  },
  {
   "cell_type": "markdown",
   "id": "5c47079b",
   "metadata": {},
   "source": [
    "TEMPERATURA MEDIA POR MES"
   ]
  },
  {
   "cell_type": "code",
   "execution_count": 43,
   "id": "f3a58558",
   "metadata": {},
   "outputs": [
    {
     "name": "stdout",
     "output_type": "stream",
     "text": [
      "\n",
      "Temperatura media por mes: \n",
      "\n",
      "Ene: 9.7ºC\n",
      "Feb: 12.0ºC\n",
      "Mar: 14.7ºC\n",
      "Abr: 18.0ºC\n",
      "May: 23.7ºC\n",
      "Jun: 24.0ºC\n",
      "Jul: 26.0ºC\n",
      "Ago: 25.0ºC\n",
      "Sep: 22.0ºC\n",
      "Oct: 18.0ºC\n",
      "Nov: 14.0ºC\n",
      "Dic: 11.0ºC\n"
     ]
    }
   ],
   "source": [
    "# temperatura media por mes \n",
    "media_temp_mes = np.mean(temperaturas, axis=0) # minimo por columnas\n",
    "print(f'\\nTemperatura media por mes: \\n') # temperatura media por mes\n",
    "for i, mes in enumerate(meses):\n",
    "    print(f'{mes}: {media_temp_mes[i]:.1f}ºC') # temperatura media por mes\n",
    "    "
   ]
  },
  {
   "cell_type": "markdown",
   "id": "11a55690",
   "metadata": {},
   "source": [
    "TEMPERATURA MAXIMA Y MÍNIMA POR MES"
   ]
  },
  {
   "cell_type": "code",
   "execution_count": 44,
   "id": "6da4ae4c",
   "metadata": {},
   "outputs": [
    {
     "name": "stdout",
     "output_type": "stream",
     "text": [
      "\n",
      "Mes más cálido: Jul (26.0ºC)\n"
     ]
    }
   ],
   "source": [
    "# mes mas cálido\n",
    "mes_calido = np.argmax(np.mean(temperaturas, axis=0)) # mes mas calido\n",
    "print(f'\\nMes más cálido: {meses[mes_calido]} ({media_temp_mes[mes_calido]:.1f}ºC)') # mes mas calido"
   ]
  },
  {
   "cell_type": "code",
   "execution_count": 45,
   "id": "998165cb",
   "metadata": {},
   "outputs": [
    {
     "name": "stdout",
     "output_type": "stream",
     "text": [
      "\n",
      "Mes más frío: Ene (9.7ºC)\n"
     ]
    }
   ],
   "source": [
    "mes_frio = np.argmin(np.mean(temperaturas, axis=0)) # mes mas frio\n",
    "print(f'\\nMes más frío: {meses[mes_frio]} ({media_temp_mes[mes_frio]:.1f}ºC)') # mes mas frio"
   ]
  },
  {
   "cell_type": "markdown",
   "id": "c44ab54c",
   "metadata": {},
   "source": [
    "TEMPERATURA MEDIA POR AÑO"
   ]
  },
  {
   "cell_type": "code",
   "execution_count": 46,
   "id": "f8de48a8",
   "metadata": {},
   "outputs": [
    {
     "name": "stdout",
     "output_type": "stream",
     "text": [
      "\n",
      "Temperatura media por año: \n",
      "\n",
      "Año 2022: 18.3ºC\n",
      "Año 2023: 17.3ºC\n",
      "Año 2024: 18.8ºC\n"
     ]
    }
   ],
   "source": [
    "# temperaturas media por año\n",
    "media_temp_anio = np.mean(temperaturas, axis=1) # temperatura media por año\n",
    "print(f'\\nTemperatura media por año: \\n') # temperatura media por año\n",
    "for i, temp in enumerate(media_temp_anio):\n",
    "    print(f'Año {anio[i]}: {temp:.1f}ºC') \n",
    "    \n",
    "    "
   ]
  },
  {
   "cell_type": "markdown",
   "id": "0f2c66a1",
   "metadata": {},
   "source": [
    "AÑO MAS CÁLIDO"
   ]
  },
  {
   "cell_type": "code",
   "execution_count": 47,
   "id": "aba2f1ed",
   "metadata": {},
   "outputs": [
    {
     "name": "stdout",
     "output_type": "stream",
     "text": [
      "\n",
      "Año más cálido: 2024 (18.8ºC)\n"
     ]
    }
   ],
   "source": [
    "# Año mas cálido\n",
    "anio_calido = np.argmax(np.mean(temperaturas, axis=1)) # año mas calido\n",
    "print(f'\\nAño más cálido: {anio[anio_calido]} ({media_temp_anio[anio_calido]:.1f}ºC)') # año mas calido"
   ]
  },
  {
   "cell_type": "markdown",
   "id": "91d2320e",
   "metadata": {},
   "source": [
    "VARIACIÓN DE TEMPERATURA POR AÑO"
   ]
  },
  {
   "cell_type": "code",
   "execution_count": 48,
   "id": "8bd155fc",
   "metadata": {},
   "outputs": [
    {
     "name": "stdout",
     "output_type": "stream",
     "text": [
      "\n",
      "Variación de temperaturas por año: \n",
      "\n",
      "2022: 5.8ºC\n",
      "2023: 5.8ºC\n",
      "2024: 5.6ºC\n"
     ]
    }
   ],
   "source": [
    "# variación de temperaturas\n",
    "variacion_temp = np.std(temperaturas, axis=1) # variacion de temperaturas\n",
    "print(f'\\nVariación de temperaturas por año: \\n') \n",
    "for i, year in enumerate(variacion_temp):\n",
    "    print(f'{anio[i]}: {year:.1f}ºC')"
   ]
  },
  {
   "cell_type": "markdown",
   "id": "2a1a3da9",
   "metadata": {},
   "source": [
    "DIFERENCIAS ENTRE TEMPERATURAS ENTRE AÑOS"
   ]
  },
  {
   "cell_type": "code",
   "execution_count": 53,
   "id": "ad0fc36c",
   "metadata": {},
   "outputs": [
    {
     "name": "stdout",
     "output_type": "stream",
     "text": [
      "\n",
      "Diferencia de temperaturas entre 2024 y 2023: \n",
      "\n",
      "Ene: 0.0ºC\n",
      "Feb: 1.0ºC\n",
      "Mar: 0.0ºC\n",
      "Abr: 1.0ºC\n",
      "May: -6.0ºC\n",
      "Jun: 2.0ºC\n",
      "Jul: 2.0ºC\n",
      "Ago: 2.0ºC\n",
      "Sep: 1.0ºC\n",
      "Oct: 1.0ºC\n",
      "Nov: 1.0ºC\n",
      "Dic: 1.0ºC\n"
     ]
    }
   ],
   "source": [
    "dif_temp = temperaturas[2] - temperaturas[0] \n",
    "print(f'\\nDiferencia de temperaturas entre 2024 y 2023: \\n')\n",
    "for i , year in enumerate(dif_temp):\n",
    "    print(f'{meses[i]}: {year:.1f}ºC') # diferencia de temperaturas entre 2024 y 2023\n"
   ]
  },
  {
   "cell_type": "markdown",
   "id": "8a8069f9",
   "metadata": {},
   "source": [
    "VISUALIZACIÓN DE LAS TEMPERATURAS"
   ]
  },
  {
   "cell_type": "code",
   "execution_count": 54,
   "id": "74eb4f94",
   "metadata": {},
   "outputs": [
    {
     "data": {
      "image/png": "[encoded data removed]",
      "text/plain": [
       "<Figure size 1000x500 with 1 Axes>"
      ]
     },
     "metadata": {},
     "output_type": "display_data"
    }
   ],
   "source": [
    "try:\n",
    "    import matplotlib.pyplot as plt\n",
    "    \n",
    "    plt.figure(figsize=(10, 5))\n",
    "    \n",
    "    for i, year in enumerate(anio):\n",
    "        plt.plot(meses, temperaturas[i], label=f'Año {year}', marker='o')\n",
    "    \n",
    "    plt.title('Temperaturas medias mensuales 2022-2024')\n",
    "    plt.xlabel('Meses')\n",
    "    plt.ylabel('Temperatura (ºC)')\n",
    "    plt.grid(True, linestyle='--', alpha=0.7)\n",
    "    plt.xticks(rotation=45)\n",
    "    plt.legend()\n",
    "    plt.show()\n",
    "except ImportError:\n",
    "    print(\"matplotlib no está instalado. No se puede mostrar el gráfico.\")\n",
    "    \n"
   ]
  }
 ],
 "metadata": {
  "kernelspec": {
   "display_name": "np_venv",
   "language": "python",
   "name": "python3"
  },
  "language_info": {
   "codemirror_mode": {
    "name": "ipython",
    "version": 3
   },
   "file_extension": ".py",
   "mimetype": "text/x-python",
   "name": "python",
   "nbconvert_exporter": "python",
   "pygments_lexer": "ipython3",
   "version": "3.12.9"
  }
 },
 "nbformat": 4,
 "nbformat_minor": 5
}
